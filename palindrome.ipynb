{
  "nbformat": 4,
  "nbformat_minor": 0,
  "metadata": {
    "colab": {
      "name": "palindrome.ipynb",
      "provenance": []
    },
    "kernelspec": {
      "name": "python3",
      "display_name": "Python 3"
    }
  },
  "cells": [
    {
      "cell_type": "code",
      "metadata": {
        "id": "qD9GWvLYu-3v",
        "colab_type": "code",
        "colab": {}
      },
      "source": [
        "def palindrome():\n",
        "    try:\n",
        "        num=int(input(\"Enter a number\"))\n",
        "    except Exception as ValueError:\n",
        "        print(\"Invalid input enter a integer\")\n",
        "    else:\n",
        "        temp=num\n",
        "        rev=0\n",
        "        while(num>0):\n",
        "            dig=num%10\n",
        "            rev=rev*10+dig\n",
        "            num=num//10\n",
        "        if(temp==rev):\n",
        "            print(\"The number is palindrome\")\n",
        "        else:\n",
        "            print(\"Not a palindrome\")\n",
        "            \n",
        "    finally:\n",
        "        print(\"program executed\")\n",
        "        palindrome()\n",
        "\n",
        "\n"
      ],
      "execution_count": 4,
      "outputs": []
    }
  ]
}