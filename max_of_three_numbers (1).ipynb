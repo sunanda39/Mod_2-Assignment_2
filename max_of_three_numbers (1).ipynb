{
  "nbformat": 4,
  "nbformat_minor": 0,
  "metadata": {
    "colab": {
      "name": "max of three numbers.ipynb",
      "provenance": []
    },
    "kernelspec": {
      "name": "python3",
      "display_name": "Python 3"
    }
  },
  "cells": [
    {
      "cell_type": "code",
      "metadata": {
        "id": "vWAECwAHo0o0",
        "colab_type": "code",
        "colab": {
          "base_uri": "https://localhost:8080/",
          "height": 84
        },
        "outputId": "cb61a0be-f982-40a2-cfa0-d5ded57bf16f"
      },
      "source": [
        "a = input(\"Enter the first number\")\n",
        "b = input(\"Enter the second number\")\n",
        "c = input(\"Enter the third number\")\n",
        "if a>b and a>c:\n",
        "  print(\"a is greater number\")\n",
        "elif b>a and b>c:\n",
        "  print(\"b is greater number\")\n",
        "else: \n",
        "    print(\"c is greater number\")    "
      ],
      "execution_count": 3,
      "outputs": [
        {
          "output_type": "stream",
          "text": [
            "Enter the first number2\n",
            "Enter the second number4\n",
            "Enter the third number5\n",
            "c is greater number\n"
          ],
          "name": "stdout"
        }
      ]
    }
  ]
}